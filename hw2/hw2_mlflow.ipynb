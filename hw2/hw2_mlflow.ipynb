{
 "cells": [
  {
   "cell_type": "code",
   "execution_count": 1,
   "outputs": [
    {
     "name": "stdout",
     "output_type": "stream",
     "text": [
      "mlflow, version 1.26.1\r\n"
     ]
    }
   ],
   "source": [
    "# Q1. Install MLflow\n",
    "# What's the version that you have?\n",
    "!mlflow --version"
   ],
   "metadata": {
    "collapsed": false,
    "pycharm": {
     "name": "#%%\n"
    }
   }
  },
  {
   "cell_type": "code",
   "execution_count": 2,
   "outputs": [],
   "source": [
    "# Q2. Download and preprocess the data\n",
    "!python preprocess_data.py --raw_data_path data --dest_path ./output"
   ],
   "metadata": {
    "collapsed": false,
    "pycharm": {
     "name": "#%%\n"
    }
   }
  },
  {
   "cell_type": "code",
   "execution_count": 4,
   "outputs": [
    {
     "name": "stdout",
     "output_type": "stream",
     "text": [
      "2022/05/28 08:23:15 INFO mlflow.tracking.fluent: Experiment with name 'nyc-green-taxi' does not exist. Creating a new experiment.\r\n",
      "2022/05/28 08:23:39 WARNING mlflow.utils.autologging_utils: MLflow autologging encountered a warning: \"/usr/local/anaconda3/envs/nlp-env/lib/python3.8/site-packages/_distutils_hack/__init__.py:36: UserWarning: Setuptools is replacing distutils.\"\r\n"
     ]
    }
   ],
   "source": [
    "# Q3. Train a model with autolog\n",
    "!python train.py"
   ],
   "metadata": {
    "collapsed": false,
    "pycharm": {
     "name": "#%%\n"
    }
   }
  },
  {
   "cell_type": "code",
   "execution_count": 5,
   "outputs": [],
   "source": [
    "# Q4. Launch the tracking server locally\n",
    "#  mlflow ui --backend-store-uri sqlite:///mlflow.db --default-artifact-root ./artifacts"
   ],
   "metadata": {
    "collapsed": false,
    "pycharm": {
     "name": "#%%\n"
    }
   }
  },
  {
   "cell_type": "code",
   "execution_count": 6,
   "outputs": [
    {
     "name": "stdout",
     "output_type": "stream",
     "text": [
      "2022/05/28 08:38:47 INFO mlflow.tracking.fluent: Experiment with name 'random-forest-hyperopt' does not exist. Creating a new experiment.\r\n",
      "100%|█████████| 50/50 [06:12<00:00,  7.46s/trial, best loss: 6.6284257482044735]\r\n"
     ]
    }
   ],
   "source": [
    "# Q5. Tune the hyperparameters of the model\n",
    "!python hpo.py"
   ],
   "metadata": {
    "collapsed": false,
    "pycharm": {
     "name": "#%%\n"
    }
   }
  },
  {
   "cell_type": "code",
   "execution_count": 7,
   "outputs": [
    {
     "name": "stdout",
     "output_type": "stream",
     "text": [
      "2022/05/28 09:06:09 INFO mlflow.tracking.fluent: Experiment with name 'random-forest-best-models' does not exist. Creating a new experiment.\r\n",
      "2022/05/28 09:06:29 WARNING mlflow.utils.autologging_utils: MLflow autologging encountered a warning: \"/usr/local/anaconda3/envs/nlp-env/lib/python3.8/site-packages/_distutils_hack/__init__.py:36: UserWarning: Setuptools is replacing distutils.\"\r\n",
      "<Run: data=<RunData: metrics={'test_rmse': 6.548852722401935,\r\n",
      " 'training_mae': 3.7776220690634528,\r\n",
      " 'training_mse': 30.58526647604336,\r\n",
      " 'training_r2_score': 0.771248028190807,\r\n",
      " 'training_rmse': 5.530394784827152,\r\n",
      " 'training_score': 0.771248028190807,\r\n",
      " 'valid_rmse': 6.629893219637507}, params={'bootstrap': 'True',\r\n",
      " 'ccp_alpha': '0.0',\r\n",
      " 'criterion': 'squared_error',\r\n",
      " 'max_depth': '20',\r\n",
      " 'max_features': 'auto',\r\n",
      " 'max_leaf_nodes': 'None',\r\n",
      " 'max_samples': 'None',\r\n",
      " 'min_impurity_decrease': '0.0',\r\n",
      " 'min_samples_leaf': '2',\r\n",
      " 'min_samples_split': '2',\r\n",
      " 'min_weight_fraction_leaf': '0.0',\r\n",
      " 'n_estimators': '25',\r\n",
      " 'n_jobs': 'None',\r\n",
      " 'oob_score': 'False',\r\n",
      " 'random_state': '42',\r\n",
      " 'verbose': '0',\r\n",
      " 'warm_start': 'False'}, tags={'estimator_class': 'sklearn.ensemble._forest.RandomForestRegressor',\r\n",
      " 'estimator_name': 'RandomForestRegressor',\r\n",
      " 'mlflow.log-model.history': '[{\"run_id\": \"065aa480181941e9b1c602ca17b898b8\", '\r\n",
      "                             '\"artifact_path\": \"model\", \"utc_time_created\": '\r\n",
      "                             '\"2022-05-28 16:07:44.249777\", \"flavors\": '\r\n",
      "                             '{\"python_function\": {\"model_path\": \"model.pkl\", '\r\n",
      "                             '\"loader_module\": \"mlflow.sklearn\", '\r\n",
      "                             '\"python_version\": \"3.8.12\", \"env\": '\r\n",
      "                             '\"conda.yaml\"}, \"sklearn\": {\"pickled_model\": '\r\n",
      "                             '\"model.pkl\", \"sklearn_version\": \"1.0.2\", '\r\n",
      "                             '\"serialization_format\": \"cloudpickle\", \"code\": '\r\n",
      "                             'null}}, \"model_uuid\": '\r\n",
      "                             '\"a544781631914c7bbbdd75bd13c437ac\", '\r\n",
      "                             '\"mlflow_version\": \"1.26.1\", \"signature\": '\r\n",
      "                             '{\"inputs\": \"[{\\\\\"type\\\\\": \\\\\"tensor\\\\\", '\r\n",
      "                             '\\\\\"tensor-spec\\\\\": {\\\\\"dtype\\\\\": \\\\\"float64\\\\\", '\r\n",
      "                             '\\\\\"shape\\\\\": [-1, 13221]}}]\", \"outputs\": '\r\n",
      "                             '\"[{\\\\\"type\\\\\": \\\\\"tensor\\\\\", \\\\\"tensor-spec\\\\\": '\r\n",
      "                             '{\\\\\"dtype\\\\\": \\\\\"float64\\\\\", \\\\\"shape\\\\\": '\r\n",
      "                             '[-1]}}]\"}}]',\r\n",
      " 'mlflow.source.git.commit': 'b10782426858e9f3ca8005941f22420f1c52ed0c',\r\n",
      " 'mlflow.source.name': 'register_model.py',\r\n",
      " 'mlflow.source.type': 'LOCAL',\r\n",
      " 'mlflow.user': 'sengopal'}>, info=<RunInfo: artifact_uri='./artifacts/3/065aa480181941e9b1c602ca17b898b8/artifacts', end_time=1653754069998, experiment_id='3', lifecycle_stage='active', run_id='065aa480181941e9b1c602ca17b898b8', run_uuid='065aa480181941e9b1c602ca17b898b8', start_time=1653754051089, status='FINISHED', user_id='sengopal'>>\r\n",
      "best_run_rmse: None\r\n",
      "Successfully registered model 'nyc-green-taxi-regressor'.\r\n",
      "2022/05/28 09:07:50 INFO mlflow.tracking._model_registry.client: Waiting up to 300 seconds for model version to finish creation.                     Model name: nyc-green-taxi-regressor, version 1\r\n",
      "Created version '1' of model 'nyc-green-taxi-regressor'.\r\n"
     ]
    }
   ],
   "source": [
    "# Q6. Promote the best model to the model registry\n",
    "!python register_model.py"
   ],
   "metadata": {
    "collapsed": false,
    "pycharm": {
     "name": "#%%\n"
    }
   }
  },
  {
   "cell_type": "code",
   "execution_count": null,
   "outputs": [],
   "source": [],
   "metadata": {
    "collapsed": false,
    "pycharm": {
     "name": "#%%\n"
    }
   }
  }
 ],
 "metadata": {
  "kernelspec": {
   "display_name": "Python 3",
   "language": "python",
   "name": "python3"
  },
  "language_info": {
   "codemirror_mode": {
    "name": "ipython",
    "version": 2
   },
   "file_extension": ".py",
   "mimetype": "text/x-python",
   "name": "python",
   "nbconvert_exporter": "python",
   "pygments_lexer": "ipython2",
   "version": "2.7.6"
  }
 },
 "nbformat": 4,
 "nbformat_minor": 0
}